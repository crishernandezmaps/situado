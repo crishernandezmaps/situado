{
 "cells": [
  {
   "cell_type": "code",
   "execution_count": 24,
   "metadata": {},
   "outputs": [],
   "source": [
    "import facebook\n",
    "import requests as r\n",
    "import json"
   ]
  },
  {
   "cell_type": "code",
   "execution_count": 21,
   "metadata": {},
   "outputs": [
    {
     "data": {
      "application/javascript": [
       "IPython.OutputArea.prototype._should_scroll = function(lines) {\n",
       "    return false;\n",
       "}"
      ],
      "text/plain": [
       "<IPython.core.display.Javascript object>"
      ]
     },
     "metadata": {},
     "output_type": "display_data"
    }
   ],
   "source": [
    "%%javascript\n",
    "IPython.OutputArea.prototype._should_scroll = function(lines) {\n",
    "    return false;\n",
    "}"
   ]
  },
  {
   "cell_type": "code",
   "execution_count": 16,
   "metadata": {},
   "outputs": [],
   "source": [
    "token= 'EAALqouCnVpgBAPI8G0HnmSAAxOke4urNptzcwplRLeaZAFHitQZBScfeAeINPG4hTH9uweZBhlG23JZCFpNZATf5dasgxOloPwqnKoVmWb3NEZB3VgOWoaZBghiGZAg3MYSqJsUftHGpwR5ZC0b4tCdiLLKcLJtb7y7USsLuCI7yyPgZDZD'\n",
    "# page = 'Mapeo-Situado'"
   ]
  },
  {
   "cell_type": "code",
   "execution_count": 17,
   "metadata": {},
   "outputs": [],
   "source": [
    "graph = facebook.GraphAPI(access_token=token, version=\"2.11\")"
   ]
  },
  {
   "cell_type": "code",
   "execution_count": 38,
   "metadata": {},
   "outputs": [],
   "source": [
    "page = 'InfanciaEnDictadura' ## Page to query\n",
    "yungay = 'BarrioYungayPatrimonial'"
   ]
  },
  {
   "cell_type": "code",
   "execution_count": 40,
   "metadata": {},
   "outputs": [
    {
     "name": "stdout",
     "output_type": "stream",
     "text": [
      "{\n",
      "    \"data\": [\n",
      "        {\n",
      "            \"created_time\": \"2017-12-26T19:45:29+0000\",\n",
      "            \"message\": \"Y seguimos con panoramas gratuitos en nuestro querido #barrioyungay. Todas y todos invitados... grandes y chicos. Nos vemos en la #plazadebolsillo (Cumming 524) este viernes 29 a las 21 hrs. \\n\\n#panoramasgratuitos #vecinosyungay #musicaalairelibre\",\n",
      "            \"story\": \"Barrio Patrimonial Yungay shared Plaza de Bolsillo Cumming's event.\",\n",
      "            \"id\": \"699139853470128_1738655722851864\"\n",
      "        },\n",
      "        {\n",
      "            \"created_time\": \"2017-12-26T17:00:30+0000\",\n",
      "            \"message\": \"Dejamos esta invitaci\\u00f3n abierta, gratuita y para toda la familia... un hermoso homenaje a Violeta Parra en la Biblioteca de Santiago. No se lo pierdan, los y las esperamos!!! \\n\\n#BibliotecadeSantiago #VioletaParra #barrioyungay\",\n",
      "            \"story\": \"Barrio Patrimonial Yungay shared Roberto Gonz\\u00e1lez's event.\",\n",
      "            \"id\": \"699139853470128_1738550489529054\"\n",
      "        },\n",
      "        {\n",
      "            \"created_time\": \"2017-12-26T15:12:22+0000\",\n",
      "            \"message\": \"Otro imperdible de nuestro #barrioyungay. El mejor lomito b\\u00e1varo est\\u00e1 en Fuente Mardoqueo!! Los esperamos en Libertad 551, que nos deleita con su receta desde 1989... \\n#fuentemardoqueo #lomitocompleto #elmejorsandwich\",\n",
      "            \"story\": \"Barrio Patrimonial Yungay shared Fuente Mardoqueo's post.\",\n",
      "            \"id\": \"699139853470128_1738475122869924\"\n",
      "        },\n",
      "        {\n",
      "            \"created_time\": \"2017-12-21T21:42:21+0000\",\n",
      "            \"message\": \"Vecinos y amigos!! Dejamos esta invitaci\\u00f3n para aquellos que todav\\u00eda les falta alg\\u00fan regalito!! \\nUn libro siempre es bienvenido...\\n\\n#bibliotecadesantiago #barrioyungay #arteycultura #ferianavide\\u00f1a\",\n",
      "            \"story\": \"Barrio Patrimonial Yungay shared Biblioteca de Santiago's post.\",\n",
      "            \"id\": \"699139853470128_1733987636652006\"\n",
      "        },\n",
      "        {\n",
      "            \"created_time\": \"2017-12-21T20:32:08+0000\",\n",
      "            \"message\": \"En 1884, en el mismo lugar donde hoy est\\u00e1 su casa matriz, se instal\\u00f3 un peque\\u00f1o negocio local con exquisitas recetas de pasteles y tortas hasta hoy vigentes... Te invitamos a dar una vuelta por Panader\\u00eda San Camilo (San Pablo 3284), un vecino del #barrioyungay desde siempre! Disfr\\u00fatalo en estas fiestas!! \\n\\n#navidad #panaderiasancamilo #patrimoniochileno #pandepascua\",\n",
      "            \"story\": \"Barrio Patrimonial Yungay added 4 new photos.\",\n",
      "            \"id\": \"699139853470128_1733945496656220\"\n",
      "        },\n",
      "        {\n",
      "            \"created_time\": \"2017-12-21T04:31:51+0000\",\n",
      "            \"message\": \"Atenci\\u00f3n Vecinos/as Barrio Patrimonial Yungay:\\n\\nDespu\\u00e9s de 8 a\\u00f1os, el Consejo de Monumentos Nacionales ha acogido nuestra solicitud de ver la posible ampliaci\\u00f3n de Zona T\\u00edpica hacia el norte y sur del barrio.\\n\\nNos piden actualizar listas de firmas de apoyo. Requerimos la m\\u00e1xima colaboraci\\u00f3n en todos los espacios posibles de recolecci\\u00f3n. Desde hoy en la tarde tendremos listado en Junta De Vecinos Barrio Yungay. Tenemos plazo hasta el 26 de diciembre de 2017. Nuestro objetivo es reunir m\\u00ednimo 500 firmas. #zonatipica #barrioyungay\\n\\nInformaci\\u00f3n v\\u00eda: Rodolfo Raul\",\n",
      "            \"story\": \"Barrio Patrimonial Yungay is feeling optimistic.\",\n",
      "            \"id\": \"699139853470128_1733318146718955\"\n",
      "        },\n",
      "        {\n",
      "            \"created_time\": \"2017-12-16T17:57:25+0000\",\n",
      "            \"message\": \"De a poquito vamos a compartir diferentes actividades para las vacaciones... Para que nuestros ni\\u00f1os y ni\\u00f1as no se aburran en casa, una vuelta a la Quinta Normal y sus museos!! Divertidos y educativos talleres de verano!! \\n#veranoentretenido #barrioyungay #ni\\u00f1osycultura\\n\\nhttps://www.facebook.com/MuseoArtequin/posts/1699238060140770\",\n",
      "            \"story\": \"Barrio Patrimonial Yungay shared Museo Artequin's post.\",\n",
      "            \"id\": \"699139853470128_1729144987136271\"\n",
      "        },\n",
      "        {\n",
      "            \"created_time\": \"2017-12-15T02:27:00+0000\",\n",
      "            \"message\": \"Otra entretenida actividad para grandes y chicos en nuestro barrio. Venga a darse una vuelta por la #rutamedicinal, recomendado!! \\n\\n#medicinanatural #vecinos #actividadfamiliar #barrioyungay\",\n",
      "            \"story\": \"Barrio Patrimonial Yungay shared Terapeutas Barrio Yungay's event.\",\n",
      "            \"id\": \"699139853470128_1727283070655796\"\n",
      "        },\n",
      "        {\n",
      "            \"created_time\": \"2017-12-14T20:26:50+0000\",\n",
      "            \"message\": \"Compartimos esta novedosa invitaci\\u00f3n de un nuevo espacio que se abre a la comunidad en nuestro #barrioyungay. Ma\\u00f1ana desde las 20 hrs. No se lo pierda!! Hu\\u00e9rfanos 2917, esquina Esperanza.\\n\\n#arteycultura  #vecinos #panoramas\",\n",
      "            \"story\": \"Barrio Patrimonial Yungay shared Bernardisima's event.\",\n",
      "            \"id\": \"699139853470128_1727058147344955\"\n",
      "        },\n",
      "        {\n",
      "            \"created_time\": \"2017-12-14T03:37:45+0000\",\n",
      "            \"message\": \"Un regalito para los peques de la casa... lindo corto que invita a la lectura, Que lo disfruten en familia!! \\ud83d\\udcda\\ud83d\\udcd6\\nhttps://www.youtube.com/watch?v=pf0teoZFpbs\\n\\n#leerescultura #leerescrecer #ni\\u00f1osycultura\",\n",
      "            \"id\": \"699139853470128_1726404010743702\"\n",
      "        },\n",
      "        {\n",
      "            \"created_time\": \"2017-12-12T21:11:19+0000\",\n",
      "            \"message\": \"Vecinos!! Compartimos esta entretenida actividad organizada por La Cueva del Conejo!! M\\u00fasica, talleres y m\\u00e1s, todo en nuestro #barrioyungay. Nos vemos del 15 al 23 de Diciembre, en Santo Domingo 2410, para compartir en familia. No se lo pierdan!! \\n\\n#navidad2017 #emprendedores #actividadesgratuitas\",\n",
      "            \"story\": \"Barrio Patrimonial Yungay shared La Cueva del Conejo's event.\",\n",
      "            \"id\": \"699139853470128_1725095397541230\"\n",
      "        },\n",
      "        {\n",
      "            \"created_time\": \"2017-12-07T07:19:25+0000\",\n",
      "            \"message\": \"Amigos!, los invitamos a ver el proceso de mural realizado por el artista barrial Henruz en la reci\\u00e9n inaugurada Plaza de Bolsillo, al exterior del metro Cumming en el Barrio Patrimonial Yungay #arte #cultura #mural #grafitti #barrio #vecinos #barrioyungay\",\n",
      "            \"story\": \"Barrio Patrimonial Yungay shared Metro de Santiago - Chile's video.\",\n",
      "            \"id\": \"699139853470128_1719423898108380\"\n",
      "        },\n",
      "        {\n",
      "            \"created_time\": \"2017-12-03T13:45:30+0000\",\n",
      "            \"message\": \"Vecinos!! Compartimos la invitaci\\u00f3n de Taller Ojo de Pez, a esta 1\\u00b0 Feria Carnavalera, que se realizar\\u00e1 en nuestro barrio el d\\u00eda de HOY, a partir de las 12 hrs. Actividades gratuitas para toda la familia!! Asiste, comparte!! Los esperamos en Herrera 722. \\n#domingofamiliar #barriopatrimonialyungay #actividadesgratuitas\",\n",
      "            \"id\": \"699139853470128_1715506471833456\"\n",
      "        },\n",
      "        {\n",
      "            \"created_time\": \"2017-12-01T03:55:53+0000\",\n",
      "            \"message\": \"otro panorama familiar en Matucana 100\\ns\\u00e1bado y domingo!\",\n",
      "            \"story\": \"Barrio Patrimonial Yungay shared Arturo Cussen's event.\",\n",
      "            \"id\": \"699139853470128_1712969322087171\"\n",
      "        },\n",
      "        {\n",
      "            \"created_time\": \"2017-11-30T21:50:02+0000\",\n",
      "            \"message\": \"Y siguiendo con la lectura, les dejamos un link de un libro que encontramos con cr\\u00f3nicas de nuestro barrio!! Vamos vecinos, que est\\u00e1 entretenido!! #cr\\u00f3nicasdebarrio #vecinos #barriopatrimonialyungay \\n\\nhttps://drive.google.com/open?id=1cUr_n4_35piwdeQbFMTfVEu_KqtLvfv3\",\n",
      "            \"id\": \"699139853470128_1712710902113013\"\n",
      "        },\n",
      "        {\n",
      "            \"created_time\": \"2017-11-28T15:19:48+0000\",\n",
      "            \"message\": \"Una vuelta en la tarde con los ni\\u00f1os? Te invitamos a dar un paseo a la Biblioteca de Santiago, con talleres, exposiciones, cuentacuentos y mucho m\\u00e1s!! Vis\\u00edtala en Matucana 151, de martes a viernes 11:00 a 20:30 hrs. - s\\u00e1bado y domingo 11:00 a 17:00 hrs. #ni\\u00f1os #diversi\\u00f3n #barriopatrimonialyungay\",\n",
      "            \"story\": \"Barrio Patrimonial Yungay added 3 new photos.\",\n",
      "            \"id\": \"699139853470128_1710306502353453\"\n",
      "        },\n",
      "        {\n",
      "            \"created_time\": \"2017-11-25T15:04:16+0000\",\n",
      "            \"message\": \"Y que tal un d\\u00eda de museo?  Ven a conocer el Museo de la Educaci\\u00f3n Gabriela Mistral, uno de los muchos emplazados en nuestro barrio Yungay! Vis\\u00edtalo en Chacabuco 365. \\n#cultura #barriopatrimonialyungay #museosdibam\",\n",
      "            \"story\": \"Barrio Patrimonial Yungay added 3 new photos.\",\n",
      "            \"id\": \"699139853470128_1707012392682864\"\n",
      "        },\n",
      "        {\n",
      "            \"created_time\": \"2017-11-23T18:41:17+0000\",\n",
      "            \"message\": \"Vecinos!! Todos invitados a bailar unas cuecas bravas!! te compartimos esta actividad para hoy, cuando baje el calor... \\n#cuecasbravas #vecinos #barrioyungay\",\n",
      "            \"id\": \"699139853470128_1705291812854922\"\n",
      "        },\n",
      "        {\n",
      "            \"created_time\": \"2017-11-23T17:18:39+0000\",\n",
      "            \"message\": \"Te invitamos a visitar esta hermosa muestra de Mandalas, realizados por vecinos de nuestro barrio!! En Palacio \\u00c1lamos (Santo Domingo 2398, lunes a viernes 10:00 a 21:00 hrs. y s\\u00e1bado 10:00 a 18:00 hrs.) Aprovecha de conocer esta joya arquitect\\u00f3nica de 1925.\\n #vecinos #barriopatrimonialyungay #artesania\",\n",
      "            \"id\": \"699139853470128_1705229246194512\"\n",
      "        },\n",
      "        {\n",
      "            \"created_time\": \"2017-11-21T16:27:41+0000\",\n",
      "            \"message\": \"Te invitamos a visitar la Feria de las Artes y el Dise\\u00f1o Independiente que se realizar\\u00e1 el pr\\u00f3ximo 10 de diciembre. #dise\\u00f1oindependiente #arteycultura #barrioyungay\",\n",
      "            \"id\": \"699139853470128_1703240179726752\"\n",
      "        },\n",
      "        {\n",
      "            \"created_time\": \"2017-11-20T01:24:35+0000\",\n",
      "            \"message\": \"Feria Medicina Natural y Alternativa en el Barrio Patrimonial Yungay #medicinanatural #barrioyungay #vecinos\",\n",
      "            \"story\": \"Barrio Patrimonial Yungay shared Terapeutas Barrio Yungay's event.\",\n",
      "            \"id\": \"699139853470128_1701661373217966\"\n",
      "        },\n",
      "        {\n",
      "            \"created_time\": \"2017-11-17T20:43:45+0000\",\n",
      "            \"message\": \"hoy y ma\\u00f1ana!\\nla p\\u00f3xima semana , de jueves a domingo....no te pierdas esta bell\\u00edsima obra, aqu\\u00ed, en nuestro Barrio.\",\n",
      "            \"story\": \"Barrio Patrimonial Yungay shared Museo de la Memoria y los Derechos Humanos's event.\",\n",
      "            \"id\": \"699139853470128_1699493776768059\"\n",
      "        },\n",
      "        {\n",
      "            \"created_time\": \"2017-11-17T15:07:04+0000\",\n",
      "            \"message\": \"Vecinos y amigos del barrio, participa!! #barrioyungay #barriopatrimonial #cultura\",\n",
      "            \"story\": \"Barrio Patrimonial Yungay shared Centro Cultural Manuel Rojas's post.\",\n",
      "            \"id\": \"699139853470128_1699246400126130\"\n",
      "        },\n",
      "        {\n",
      "            \"created_time\": \"2017-11-16T17:19:58+0000\",\n",
      "            \"message\": \"Hola !te contamos  que desde hoy jueves  16 de noviembre, vuelve Mi Abuelo Horacio!!!! De Malucha Pinto y Fundaci\\u00f3n Aracataca Estar\\u00e1 en el Museo de la Memoria de jueves a s\\u00e1bado 20:30 y el domingo 19:30. \\nReserva al WS +56978779271\\nTe esperamos\",\n",
      "            \"story\": \"Barrio Patrimonial Yungay is at Museo de la Memoria y los Derechos Humanos.\",\n",
      "            \"id\": \"699139853470128_1698371583546945\"\n",
      "        },\n",
      "        {\n",
      "            \"created_time\": \"2017-11-08T11:26:39+0000\",\n",
      "            \"message\": \"Barrio Yungay. Desde 1839, el barrio m\\u00e1s antiguo de la ciudad de Santiago de Chile.\",\n",
      "            \"story\": \"Barrio Patrimonial Yungay updated their profile picture.\",\n",
      "            \"id\": \"699139853470128_1690220194362084\"\n",
      "        }\n",
      "    ],\n",
      "    \"paging\": {\n",
      "        \"cursors\": {\n",
      "            \"before\": \"Q2c4U1pXNTBYM0YxWlhKNVgzTjBiM0o1WDJsa0R5TTJPVGt4TXprNE5UTTBOekF4TWpnNk9ETXlORE0wTXpBME16SXhPVEl5TWpNeU9ROE1ZAWEJwWDNOMGIzSjVYMmxrRHlBMk9Ua3hNems0TlRNME56QXhNamhmTVRjek9EWTFOVGN5TWpnMU1UZAzJOQThFZAEdsdFpRWmFRcWJaQVE9PQZDZD\",\n",
      "            \"after\": \"Q2c4U1pXNTBYM0YxWlhKNVgzTjBiM0o1WDJsa0R5UTJPVGt4TXprNE5UTTBOekF4TWpnNkxUSXpOamN6T0RZAek1UQTBNRGszT0RjNU56VVBER0ZA3YVY5emRHOXllVjlwWkE4ZA05qazVNVE01T0RVek5EY3dNVEk0WHpFMk9UQXlNakF4T1RRek5qSXdPRFFQQkhScGJXVUdXZA0xwN3dFPQZDZD\"\n",
      "        },\n",
      "        \"next\": \"https://graph.facebook.com/v2.11/699139853470128/posts?access_token=EAALqouCnVpgBAPI8G0HnmSAAxOke4urNptzcwplRLeaZAFHitQZBScfeAeINPG4hTH9uweZBhlG23JZCFpNZATf5dasgxOloPwqnKoVmWb3NEZB3VgOWoaZBghiGZAg3MYSqJsUftHGpwR5ZC0b4tCdiLLKcLJtb7y7USsLuCI7yyPgZDZD&limit=25&after=Q2c4U1pXNTBYM0YxWlhKNVgzTjBiM0o1WDJsa0R5UTJPVGt4TXprNE5UTTBOekF4TWpnNkxUSXpOamN6T0RZAek1UQTBNRGszT0RjNU56VVBER0ZA3YVY5emRHOXllVjlwWkE4ZA05qazVNVE01T0RVek5EY3dNVEk0WHpFMk9UQXlNakF4T1RRek5qSXdPRFFQQkhScGJXVUdXZA0xwN3dFPQZDZD\"\n",
      "    }\n",
      "}\n"
     ]
    }
   ],
   "source": [
    "q = r.get('https://graph.facebook.com/{}/posts?access_token={}'.format(yungay,token))\n",
    "raw = json.dumps(q.json(), indent=4) ## parse JSON ... pretty\n",
    "# raw = q.json()\n",
    "print(raw)"
   ]
  },
  {
   "cell_type": "code",
   "execution_count": 41,
   "metadata": {},
   "outputs": [
    {
     "name": "stdout",
     "output_type": "stream",
     "text": [
      "Otro imperdible de nuestro #barrioyungay. El mejor lomito bávaro está en Fuente Mardoqueo!! Los esperamos en Libertad 551, que nos deleita con su receta desde 1989... \n",
      "#fuentemardoqueo #lomitocompleto #elmejorsandwich\n"
     ]
    }
   ],
   "source": [
    "post = graph.get_object(id='699139853470128_1738475122869924', fields='message')\n",
    "print(post['message'])"
   ]
  }
 ],
 "metadata": {
  "kernelspec": {
   "display_name": "Python 3",
   "language": "python",
   "name": "python3"
  },
  "language_info": {
   "codemirror_mode": {
    "name": "ipython",
    "version": 3
   },
   "file_extension": ".py",
   "mimetype": "text/x-python",
   "name": "python",
   "nbconvert_exporter": "python",
   "pygments_lexer": "ipython3",
   "version": "3.6.3"
  }
 },
 "nbformat": 4,
 "nbformat_minor": 2
}
