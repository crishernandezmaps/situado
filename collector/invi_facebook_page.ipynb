{
 "cells": [
  {
   "cell_type": "code",
   "execution_count": 3,
   "metadata": {},
   "outputs": [],
   "source": [
    "import facebook\n",
    "import requests as r\n",
    "import json"
   ]
  },
  {
   "cell_type": "code",
   "execution_count": 4,
   "metadata": {},
   "outputs": [
    {
     "data": {
      "application/javascript": [
       "IPython.OutputArea.prototype._should_scroll = function(lines) {\n",
       "    return false;\n",
       "}"
      ],
      "text/plain": [
       "<IPython.core.display.Javascript object>"
      ]
     },
     "metadata": {},
     "output_type": "display_data"
    }
   ],
   "source": [
    "%%javascript\n",
    "IPython.OutputArea.prototype._should_scroll = function(lines) {\n",
    "    return false;\n",
    "}"
   ]
  },
  {
   "cell_type": "code",
   "execution_count": 40,
   "metadata": {},
   "outputs": [],
   "source": [
    "# page = 'Mapeo Situado'\n",
    "# page = 'InfanciaEnDictadura'\n",
    "page = 'BarrioYungayPatrimonial'\n",
    "\n",
    "token= 'EAALqouCnVpgBAPI8G0HnmSAAxOke4urNptzcwplRLeaZAFHitQZBScfeAeINPG4hTH9uweZBhlG23JZCFpNZATf5dasgxOloPwqnKoVmWb3NEZB3VgOWoaZBghiGZAg3MYSqJsUftHGpwR5ZC0b4tCdiLLKcLJtb7y7USsLuCI7yyPgZDZD'\n",
    "q = r.get('https://graph.facebook.com/{}/posts?access_token={}'.format(page,token))"
   ]
  },
  {
   "cell_type": "code",
   "execution_count": null,
   "metadata": {},
   "outputs": [],
   "source": [
    "# raw = json.dumps(q.json(), indent=4) ## parse JSON ... pretty\n",
    "raw = q.json()"
   ]
  },
  {
   "cell_type": "code",
   "execution_count": 45,
   "metadata": {},
   "outputs": [
    {
     "data": {
      "text/plain": [
       "'https://graph.facebook.com/v2.11/699139853470128/posts?access_token=EAALqouCnVpgBAPI8G0HnmSAAxOke4urNptzcwplRLeaZAFHitQZBScfeAeINPG4hTH9uweZBhlG23JZCFpNZATf5dasgxOloPwqnKoVmWb3NEZB3VgOWoaZBghiGZAg3MYSqJsUftHGpwR5ZC0b4tCdiLLKcLJtb7y7USsLuCI7yyPgZDZD&limit=25&after=Q2c4U1pXNTBYM0YxWlhKNVgzTjBiM0o1WDJsa0R5TTJPVGt4TXprNE5UTTBOekF4TWpnNk5EQXhOREE1TkRJeU5qTTBPRFExTVRjNE9ROE1ZAWEJwWDNOMGIzSjVYMmxrRHlBMk9Ua3hNems0TlRNME56QXhNamhmTVRZANU9ETTNNVFU0TXpVME5qazBOUThFZAEdsdFpRWmFEY2krQVE9PQZDZD'"
      ]
     },
     "execution_count": 45,
     "metadata": {},
     "output_type": "execute_result"
    }
   ],
   "source": [
    "nextPage = q.json()[\"paging\"][\"next\"]\n",
    "nextPage"
   ]
  },
  {
   "cell_type": "code",
   "execution_count": 46,
   "metadata": {},
   "outputs": [],
   "source": [
    "### Insert While loop to iterate among posts in pagination to extract IDs\n",
    "### After getting IDs evaluate (IF) if that post has image\n",
    "### If that post has image is TRUE, then download that image\n",
    "\n",
    "### ---\n",
    "\n",
    "### Create a new visual piece from Facebook Page using the narrative for each neighborhood (not neccesarly a map)"
   ]
  },
  {
   "cell_type": "code",
   "execution_count": 42,
   "metadata": {},
   "outputs": [
    {
     "name": "stdout",
     "output_type": "stream",
     "text": [
      "699139853470128_1747445501972886\n",
      "699139853470128_1738655722851864\n",
      "699139853470128_1738550489529054\n",
      "699139853470128_1738475122869924\n",
      "699139853470128_1733987636652006\n",
      "699139853470128_1733945496656220\n",
      "699139853470128_1733318146718955\n",
      "699139853470128_1729144987136271\n",
      "699139853470128_1727283070655796\n",
      "699139853470128_1727058147344955\n",
      "699139853470128_1726404010743702\n",
      "699139853470128_1725095397541230\n",
      "699139853470128_1719423898108380\n",
      "699139853470128_1715506471833456\n",
      "699139853470128_1712969322087171\n",
      "699139853470128_1712710902113013\n",
      "699139853470128_1710306502353453\n",
      "699139853470128_1707012392682864\n",
      "699139853470128_1705291812854922\n",
      "699139853470128_1705229246194512\n",
      "699139853470128_1703240179726752\n",
      "699139853470128_1701661373217966\n",
      "699139853470128_1699493776768059\n",
      "699139853470128_1699246400126130\n",
      "699139853470128_1698371583546945\n"
     ]
    }
   ],
   "source": [
    "for i in raw['data']:\n",
    "    print(i[\"id\"])"
   ]
  },
  {
   "cell_type": "code",
   "execution_count": 44,
   "metadata": {},
   "outputs": [
    {
     "data": {
      "text/plain": [
       "'\\nFB.api(\\n  \\'/699139853470128_1738475122869924\\',\\n  \\'GET\\',\\n  {\"fields\":\"full_picture,picture\"},\\n  function(response) {\\n      // Insert your code here\\n  }\\n);\\n'"
      ]
     },
     "execution_count": 44,
     "metadata": {},
     "output_type": "execute_result"
    }
   ],
   "source": [
    "\"\"\"\n",
    "FB.api(\n",
    "  '/699139853470128_1738475122869924',\n",
    "  'GET',\n",
    "  {\"fields\":\"full_picture,picture\"},\n",
    "  function(response) {\n",
    "      // Insert your code here\n",
    "  }\n",
    ");\n",
    "\"\"\""
   ]
  }
 ],
 "metadata": {
  "kernelspec": {
   "display_name": "Python 3",
   "language": "python",
   "name": "python3"
  },
  "language_info": {
   "codemirror_mode": {
    "name": "ipython",
    "version": 3
   },
   "file_extension": ".py",
   "mimetype": "text/x-python",
   "name": "python",
   "nbconvert_exporter": "python",
   "pygments_lexer": "ipython3",
   "version": "3.6.3"
  }
 },
 "nbformat": 4,
 "nbformat_minor": 2
}
