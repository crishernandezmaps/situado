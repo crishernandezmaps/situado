{
 "cells": [
  {
   "cell_type": "code",
   "execution_count": 3,
   "metadata": {},
   "outputs": [],
   "source": [
    "#!/usr/bin/python3\n",
    "# coding: utf-8\n",
    "import pandas as pd\n",
    "from geopy.geocoders import Bing\n",
    "\n",
    "bing_key = \"ginITT5ALcrOnA4aMoH0~_vGQBu-_tnKr6FYRj6U5nA~Ar9conblprRVoeaB4uH4PKMzcs0BfrUJ5LbspSyDn04UqCpCOfsm567DJjUw-PY6\" # https://www.bingmapsportal.com/Account"
   ]
  },
  {
   "cell_type": "code",
   "execution_count": 11,
   "metadata": {},
   "outputs": [],
   "source": [
    "def lat(row):\n",
    "    geolocator = Bing(bing_key, timeout=5)\n",
    "    location = geolocator.geocode(row['address'])\n",
    "    return str(location.latitude)\n",
    "\n",
    "def lon(row):\n",
    "    geolocator = Bing(bing_key, timeout=5)\n",
    "    location = geolocator.geocode(row['address'])\n",
    "    return str(location.longitude)"
   ]
  },
  {
   "cell_type": "code",
   "execution_count": 12,
   "metadata": {},
   "outputs": [],
   "source": [
    "pathToFile = \"plazas_bolsillo.csv\"\n",
    "outFile = \"plazas_coor.csv\""
   ]
  },
  {
   "cell_type": "code",
   "execution_count": 13,
   "metadata": {},
   "outputs": [
    {
     "name": "stdout",
     "output_type": "stream",
     "text": [
      "  country                region       district                 street  \\\n",
      "0   Chile  Region Metropolitana       Santiago  Diagonal Paraguay 265   \n",
      "1   Chile  Region Metropolitana       Santiago             Morandé 83   \n",
      "2   Chile  Region Metropolitana       Santiago        Abate Molina 91   \n",
      "3   Chile  Region Metropolitana       Santiago     Santo Domingo 1301   \n",
      "4   Chile  Region Metropolitana       Santiago          Catedral 2301   \n",
      "5   Chile  Region Metropolitana  Independencia      Anibal Pinto 1145   \n",
      "6   Chile  Region Metropolitana    Providencia      Padre Mariano 140   \n",
      "\n",
      "                                             address          lat          lon  \n",
      "0  Chile Region Metropolitana Santiago Diagonal P...    -33.44292    -70.63754  \n",
      "1     Chile Region Metropolitana Santiago Morandé 83    -33.44252    -70.65312  \n",
      "2  Chile Region Metropolitana Santiago Abate Moli...      -33.618    -70.57584  \n",
      "3  Chile Region Metropolitana Santiago Santo Domi...    -33.43636     -70.6529  \n",
      "4  Chile Region Metropolitana Santiago Catedral 2301    -33.43782    -70.65545  \n",
      "5  Chile Region Metropolitana Independencia Aniba...  -33.4266477  -70.6546486  \n",
      "6  Chile Region Metropolitana Providencia Padre M...  -33.4255799    -70.61673  \n"
     ]
    }
   ],
   "source": [
    "df = pd.read_csv(pathToFile,sep=',')\n",
    "df['lat'] = df.apply(lambda row: lat(row),axis=1)\n",
    "df['lon'] = df.apply(lambda row: lon(row),axis=1)\n",
    "df.to_csv(outFile,sep=',')\n",
    "print(df)"
   ]
  }
 ],
 "metadata": {
  "kernelspec": {
   "display_name": "Python 3",
   "language": "python",
   "name": "python3"
  },
  "language_info": {
   "codemirror_mode": {
    "name": "ipython",
    "version": 3
   },
   "file_extension": ".py",
   "mimetype": "text/x-python",
   "name": "python",
   "nbconvert_exporter": "python",
   "pygments_lexer": "ipython3",
   "version": "3.6.3"
  }
 },
 "nbformat": 4,
 "nbformat_minor": 2
}
